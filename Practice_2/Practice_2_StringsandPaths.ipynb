{
 "cells": [
  {
   "cell_type": "code",
   "execution_count": null,
   "id": "d8eccaa4",
   "metadata": {},
   "outputs": [
    {
     "name": "stdout",
     "output_type": "stream",
     "text": [
      "The sentence entered contains punctuation. Please try again without punctuations\n",
      "Biggest word(s): ['name']\n"
     ]
    }
   ],
   "source": [
    "#Problem 1\n",
    "import string\n",
    "\n",
    "# We need to make sure to not accept any sentences with punctuation so we do the following:\n",
    "while True:\n",
    "    sen = str(input(\"Enter a sentence: \"))\n",
    "    if any(char in string.punctuation for char in sen):\n",
    "        print(\"The sentence entered contains punctuation. Please try again without punctuations\")\n",
    "    else:\n",
    "        break  \n",
    "\n",
    "# now that the sentence is 'legal' we split the sentence into words.\n",
    "sen_list: list = sen.split(\" \")\n",
    "\n",
    "# max_length will track the count of the words and longest_words will create a list\n",
    "# of all the biggest words\n",
    "max_length = 0\n",
    "longest_words = []\n",
    "\n",
    "# Here is where we check every words length and decide whether to skip or add it to the list.\n",
    "for word in sen_list:\n",
    "    if(len(word) > max_length):\n",
    "        max_length = len(word)\n",
    "        longest_words = [word]\n",
    "    elif(len(word) == max_length):\n",
    "        longest_words.append(word)\n",
    "\n",
    "print(\"Biggest word(s):\", longest_words )"
   ]
  },
  {
   "cell_type": "code",
   "execution_count": null,
   "id": "c3d8a5f8",
   "metadata": {},
   "outputs": [
    {
     "name": "stdout",
     "output_type": "stream",
     "text": [
      "A : 1\n",
      "B : 2\n"
     ]
    }
   ],
   "source": [
    "#Problem 2\n",
    "\n",
    "# this input will receive all Columns and split them into their own separate letters\n",
    "col_titles = input(\"Enter Excel column titles separated by spaces: \").split()\n",
    "\n",
    "# here we validate that each letter is capitalized and is an actual column name, not a number\n",
    "# or symbol. If it isn't, we say that the input is wrong\n",
    "# If the input is correct, then we order them and print their correspoding column number\n",
    "for title in col_titles:\n",
    "    if not title.isalpha() or not title.isupper():\n",
    "        print(f\"{title} -> Incorrect input\")\n",
    "    else:\n",
    "        number = 0\n",
    "        for char in title:\n",
    "            # In here we identify the corresponding base 26 number with the letter.\n",
    "            number = number * 26 + (ord(char) - ord('A') + 1)\n",
    "        print(f\"{title} : {number}\")"
   ]
  }
 ],
 "metadata": {
  "kernelspec": {
   "display_name": "Python 3",
   "language": "python",
   "name": "python3"
  },
  "language_info": {
   "codemirror_mode": {
    "name": "ipython",
    "version": 3
   },
   "file_extension": ".py",
   "mimetype": "text/x-python",
   "name": "python",
   "nbconvert_exporter": "python",
   "pygments_lexer": "ipython3",
   "version": "3.12.1"
  }
 },
 "nbformat": 4,
 "nbformat_minor": 5
}
