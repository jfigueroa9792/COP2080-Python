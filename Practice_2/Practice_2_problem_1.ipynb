{
 "cells": [
  {
   "cell_type": "code",
   "execution_count": null,
   "id": "d8eccaa4",
   "metadata": {},
   "outputs": [
    {
     "name": "stdout",
     "output_type": "stream",
     "text": [
      "['quick', 'foxes', 'climb', 'steep', 'hills']\n"
     ]
    }
   ],
   "source": [
    "#Problem 1\n",
    "import string\n",
    "\n",
    "# We need to make sure to not accept any sentences with punctuation so we do the following:\n",
    "while True:\n",
    "    sen = str(input(\"Enter a sentence: \"))\n",
    "    if any(char in string.punctuation for char in sen):\n",
    "        print(\"The sentence entered contains punctuation. Please try again without punctuations\")\n",
    "    else:\n",
    "        break  \n",
    "\n",
    "# now that the sentence is 'legal' we split the sentence into words.\n",
    "sen_list: list = sen.split(\" \")\n",
    "\n",
    "# max_length will track the count of the words and longest_words will create a list\n",
    "# of all the biggest words\n",
    "max_length = 0\n",
    "longest_words = []\n",
    "\n",
    "# Here is where we check every words length and decide whether to skip or add it to the list.\n",
    "for word in sen_list:\n",
    "    if(len(word) > max_length):\n",
    "        max_length = len(word)\n",
    "        longest_words = [word]\n",
    "    elif(len(word) == max_length):\n",
    "        longest_words.append(word)\n",
    "\n",
    "print(\"Biggest word(s):\", longest_words )"
   ]
  }
 ],
 "metadata": {
  "kernelspec": {
   "display_name": "Python 3",
   "language": "python",
   "name": "python3"
  },
  "language_info": {
   "codemirror_mode": {
    "name": "ipython",
    "version": 3
   },
   "file_extension": ".py",
   "mimetype": "text/x-python",
   "name": "python",
   "nbconvert_exporter": "python",
   "pygments_lexer": "ipython3",
   "version": "3.12.1"
  }
 },
 "nbformat": 4,
 "nbformat_minor": 5
}
