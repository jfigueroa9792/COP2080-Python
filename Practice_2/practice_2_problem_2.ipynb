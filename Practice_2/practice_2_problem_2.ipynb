{
 "cells": [
  {
   "cell_type": "code",
   "execution_count": null,
   "id": "100e9f66",
   "metadata": {},
   "outputs": [],
   "source": [
    "#Problem 2\n",
    "\n",
    "# this input will receive all Columns and split them into their own separate letters\n",
    "col_titles = input(\"Enter Excel column titles separated by spaces: \").split()\n",
    "\n",
    "# here we validate that each letter is capitalized and is an actual column name, not a number\n",
    "# or symbol. If it isn't, we say that the input is wrong\n",
    "# If the input is correct, then we order them and print their correspoding column number\n",
    "for title in col_titles:\n",
    "    if not title.isalpha() or not title.isupper():\n",
    "        print(f\"{title} -> Incorrect input\")\n",
    "    else:\n",
    "        number = 0\n",
    "        for char in title:\n",
    "            # In here we identify the corresponding base 26 number with the letter.\n",
    "            number = number * 26 + (ord(char) - ord('A') + 1)\n",
    "        print(f\"{title} : {number}\")"
   ]
  }
 ],
 "metadata": {
  "language_info": {
   "name": "python"
  }
 },
 "nbformat": 4,
 "nbformat_minor": 5
}
