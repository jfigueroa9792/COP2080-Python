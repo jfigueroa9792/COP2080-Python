{
 "cells": [
  {
   "cell_type": "code",
   "execution_count": 3,
   "id": "a81ac9bc",
   "metadata": {},
   "outputs": [
    {
     "name": "stdout",
     "output_type": "stream",
     "text": [
      "Jack 25 5.6\n"
     ]
    }
   ],
   "source": [
    "# Variables\n",
    "name = \"Jack\"\n",
    "age = 25\n",
    "height = 5.6\n",
    "\n",
    "print(name,age,height)"
   ]
  },
  {
   "cell_type": "code",
   "execution_count": 4,
   "id": "2077a916",
   "metadata": {},
   "outputs": [
    {
     "name": "stdout",
     "output_type": "stream",
     "text": [
      "name: Igor, Age: 30, height: 6.0\n"
     ]
    }
   ],
   "source": [
    "# Declaring Variables\n",
    "\n",
    "name: str = \"Igor\"\n",
    "age: int = 30\n",
    "height: float = 6.0\n",
    "\n",
    "print(f\"name: {name}, Age: {age}, height: {height}\")"
   ]
  },
  {
   "cell_type": "code",
   "execution_count": 2,
   "id": "734e72e1",
   "metadata": {},
   "outputs": [
    {
     "name": "stdout",
     "output_type": "stream",
     "text": [
      "1.8\n",
      "1\n",
      "59049\n",
      "4\n"
     ]
    }
   ],
   "source": [
    "# Arithmetic\n",
    "a = 5\n",
    "b = 9\n",
    "print(b/a)\n",
    "print(b//a) #integer division\n",
    "print(b**a) #exponent\n",
    "print(b%a) #remainder"
   ]
  },
  {
   "cell_type": "code",
   "execution_count": null,
   "id": "852e909d",
   "metadata": {},
   "outputs": [
    {
     "name": "stdout",
     "output_type": "stream",
     "text": [
      "Title: science, Author: Drew, Pages: 400, Price: $50.0\n"
     ]
    },
    {
     "data": {
      "text/plain": [
       "True"
      ]
     },
     "execution_count": 7,
     "metadata": {},
     "output_type": "execute_result"
    }
   ],
   "source": [
    "class Book:\n",
    "    total_books = 0\n",
    "\n",
    "    def __init__(self, title, author, pages, price):\n",
    "        self.title = str(title)\n",
    "        self.author = str(author)\n",
    "        self.pages = int(pages)\n",
    "        self._price = float(price)\n",
    "\n",
    "        Book.total_books += 1\n",
    "\n",
    "    def get_price(self):\n",
    "        return self._price\n",
    "\n",
    "    def set_price(self, new_price):\n",
    "        if new_price >= 0:\n",
    "            self._price = new_price\n",
    "\n",
    "    @staticmethod\n",
    "    def is_long_book(pages):\n",
    "        return pages > 300\n",
    "\n",
    "    def __add__(self, other):\n",
    "        return Book(\n",
    "            f\"{self.title} & {other.title}\",\n",
    "            f\"{self.author} & {other.author}\",\n",
    "            self.pages + other.pages,\n",
    "            self._price + other._price\n",
    "        )\n",
    "\n",
    "    def info(self):\n",
    "        print(f\"Title: {self.title}, Author: {self.author}, Pages: {self.pages}, Price: ${self._price}\")\n",
    "\n",
    "book1 = Book(\"science\",\"Drew\",400,50)\n",
    "book1.info()\n"
   ]
  },
  {
   "cell_type": "code",
   "execution_count": 31,
   "id": "fdeea671",
   "metadata": {},
   "outputs": [
    {
     "name": "stdout",
     "output_type": "stream",
     "text": [
      "2025\n"
     ]
    }
   ],
   "source": [
    "import datetime\n",
    "'''Question: Movie Class\n",
    "Requirements:\n",
    "Attributes\n",
    "title (string)\n",
    "director (string)\n",
    "year (integer)\n",
    "_rating (float, private, 0–10)\n",
    "         \n",
    "Class Attribute\n",
    "total_movies → counts how many Movie objects have been created\n",
    "\n",
    "Methods\n",
    "Instance method info() → prints the movie details (title, director, year, rating)\n",
    "Getter and Setter for _rating (ensure rating is between 0 and 10)\n",
    "Static Method is_classic(year) → returns True if the movie is older than 25 years\n",
    "Class Method get_total_movies() → returns the total number of movies created\n",
    "Operator Overload + → combine two movies into a new Movie:\n",
    "Title = \"Title1 & Title2\"\n",
    "Director = \"Director1 & Director2\"\n",
    "Year = latest of the two\n",
    "Rating = average of the two\n",
    "\n",
    "Optional: Implement __str__ so print(movie) shows a nice string representation.'''\n",
    "\n",
    "class Movie:\n",
    "    total_movies = 0\n",
    "\n",
    "    def __init__(self, title = str, director = str, year = int, rating = float):\n",
    "        self.t = title\n",
    "        self.d = director\n",
    "        self.y = year\n",
    "        while rating not in range(0,11):\n",
    "            rating = float(input(f\"{rating} is not between 0-10, please correct\"))\n",
    "        self.__r = rating\n",
    "\n",
    "    def __str__(self):\n",
    "        return f'Title: {self.t}, Author: {self.d}, Year: {self.y}. Rating: {self.__r}'\n",
    "\n",
    "    #Getter\n",
    "    def getRating(self):\n",
    "        return self.__r\n",
    "\n",
    "    #Setter\n",
    "    def setRating(self, new_r):\n",
    "        while new_r not in range(0,11):\n",
    "            new_r = float(input(f\"{new_r} is not between 0-10, please correct\"))\n",
    "        self.__r = new_r\n",
    "\n",
    "    @staticmethod\n",
    "    def isClassic(year):\n",
    "        if datetime.date.today().year - year > 25:\n",
    "            return True\n",
    "        else: return False\n",
    "\n",
    "movie1 = Movie(\"envy\", \"dennis\", 1985, 9)\n",
    "print(datetime.date.today().year)"
   ]
  }
 ],
 "metadata": {
  "kernelspec": {
   "display_name": "Python 3",
   "language": "python",
   "name": "python3"
  },
  "language_info": {
   "codemirror_mode": {
    "name": "ipython",
    "version": 3
   },
   "file_extension": ".py",
   "mimetype": "text/x-python",
   "name": "python",
   "nbconvert_exporter": "python",
   "pygments_lexer": "ipython3",
   "version": "3.12.1"
  }
 },
 "nbformat": 4,
 "nbformat_minor": 5
}
