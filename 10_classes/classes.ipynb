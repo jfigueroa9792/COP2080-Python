{
 "cells": [
  {
   "cell_type": "code",
   "execution_count": null,
   "id": "f83bf223",
   "metadata": {},
   "outputs": [
    {
     "name": "stdout",
     "output_type": "stream",
     "text": [
      "Human\n",
      "1 2\n",
      "Darth Vader\n",
      "1\n",
      "2\n",
      "12\n",
      "7\n",
      "10\n",
      "10\n",
      "3\n"
     ]
    }
   ],
   "source": [
    "# sys.path is a list in pythons sys module that defines the directories.\n",
    "\"\"\"import sys\n",
    "sys.path.append(\"/workspaces/Python_Test/26_python_lecture8\")\n",
    "from test2 import message\n",
    "message(\"Hello!!!\")\"\"\"\n",
    "\n",
    "# every python module has a spceial variable __name__ that indicates how the module is being used.\n",
    "# when a .py file is run direcly, __name__ is set to \"__main__\"\n",
    "# when the file is imported as a module, __name__ is set to the module's name\n",
    "# code inside the block runs only when the file is executed.\n",
    "\n",
    "# OOP: concept of objects having properties (attributes) and behaviors (functions)\n",
    "# classes are used to create objects, and objects are instances of classes\n",
    "\n",
    "# simple class\n",
    "class Point:\n",
    "    x = 10\n",
    "    y = 7\n",
    "\n",
    "# example\n",
    "class Person:\n",
    "    species = \"Human\"\n",
    "\n",
    "# creating an instance\n",
    "man = Person()\n",
    "print(man.species)\n",
    "\n",
    "p = Point()\n",
    "p.x = 1\n",
    "p.y = 2\n",
    "print(p.x,p.y)\n",
    "\n",
    "# adding instance attributes\n",
    "man.name = \"Darth\"\n",
    "man.surname = \"Vader\"\n",
    "print(man.name, man.surname)\n",
    "\n",
    "# attribute shadowing\n",
    "# occurs when an instance attribute has the same name as a class attribute. The instance attribute will have higher priority. \n",
    "\n",
    "# refering to class Point\n",
    "print(p.x)\n",
    "print(p.y)\n",
    "p.x = 12\n",
    "print(p.x) # will print 12 now\n",
    "\n",
    "del p.x\n",
    "print(p.x) # goes to class attribute since instance was removed\n",
    "\n",
    "p.z = 3\n",
    "print(p.z)\n",
    "# print(Point.z) #returns an error since z does not exist in the class"
   ]
  },
  {
   "cell_type": "code",
   "execution_count": null,
   "id": "3d35c838",
   "metadata": {},
   "outputs": [
    {
     "name": "stdout",
     "output_type": "stream",
     "text": [
      "Woof! Woof!\n"
     ]
    }
   ],
   "source": [
    "# make a dog class with attributes and methods\n",
    "\n",
    "class Dog:\n",
    "    def bark(self): # self refers to an instance of the class; otherwise known as instance methods\n",
    "        return \"Woof! Woof!\"\n",
    "\n",
    "# create an instance of Dog\n",
    "waterdog = Dog()\n",
    "# call bark method\n",
    "print(waterdog.bark())"
   ]
  },
  {
   "cell_type": "code",
   "execution_count": 37,
   "id": "e9b44edb",
   "metadata": {},
   "outputs": [
    {
     "name": "stdout",
     "output_type": "stream",
     "text": [
      "64\n",
      "100\n",
      "Leopold\n",
      "BMW is driving\n"
     ]
    }
   ],
   "source": [
    "class Square:\n",
    "    side = 8\n",
    "    # create an instance method area\n",
    "    def area(self):\n",
    "        return self.side**2\n",
    "\n",
    "s1 = Square()\n",
    "print(s1.area())\n",
    "s1.side = 10 # change the object's attribute value\n",
    "print(s1.area())\n",
    "\n",
    "# __init__ method (constructor)\n",
    "# used to initialize the properties of a new object\n",
    "\n",
    "class Cat:\n",
    "    def __init__(self,name):\n",
    "        self.name = name # dynamically create attributes of an object\n",
    "\n",
    "leopold = Cat(\"Leopold\")\n",
    "print(leopold.name)\n",
    "\n",
    "\n",
    "# practice\n",
    "class Car():\n",
    "    def __init__(self, model):\n",
    "        self.model = model\n",
    "    def drive(self):\n",
    "        print(self.model, \"is driving\")\n",
    "\n",
    "BMW = Car(\"BMW\")\n",
    "BMW.drive()\n"
   ]
  }
 ],
 "metadata": {
  "kernelspec": {
   "display_name": "Python 3",
   "language": "python",
   "name": "python3"
  },
  "language_info": {
   "codemirror_mode": {
    "name": "ipython",
    "version": 3
   },
   "file_extension": ".py",
   "mimetype": "text/x-python",
   "name": "python",
   "nbconvert_exporter": "python",
   "pygments_lexer": "ipython3",
   "version": "3.12.1"
  }
 },
 "nbformat": 4,
 "nbformat_minor": 5
}
