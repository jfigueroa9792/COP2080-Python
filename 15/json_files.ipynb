{
 "cells": [
  {
   "cell_type": "code",
   "execution_count": null,
   "id": "2b05e665",
   "metadata": {},
   "outputs": [
    {
     "name": "stdout",
     "output_type": "stream",
     "text": [
      "/workspaces/COP2080-Python\n",
      "/workspaces/COP2080-Python/14/Working_with_files.py 2088  bytes\n",
      "/workspaces/COP2080-Python/12/course_class.py 3228  bytes\n",
      "/workspaces/COP2080-Python/09_Decorators_Imports/main.py 29  bytes\n",
      "/workspaces/COP2080-Python/09_Decorators_Imports/measure.py 365  bytes\n"
     ]
    }
   ],
   "source": [
    "# Recursive search\n",
    "from pathlib import Path\n",
    "\n",
    "p = Path(\".\").absolute().parent\n",
    "print(p.absolute())\n",
    "\n",
    "# find all python files\n",
    "for py_file in p.rglob(\"*.py\"):\n",
    "    print(py_file, py_file.stat().st_size, \" bytes\")\n"
   ]
  },
  {
   "cell_type": "code",
   "execution_count": 18,
   "id": "25bb0995",
   "metadata": {},
   "outputs": [],
   "source": [
    "# create a json file\n",
    "import json\n",
    "\n",
    "class Hello:\n",
    "    def __init__(self):\n",
    "        self.msg = \"Hello\"\n",
    "    \n",
    "    def __str__(self):\n",
    "        return self.msg\n",
    "\n",
    "class HelloEncoder(json.JSONEncoder):\n",
    "    def default(self, o):\n",
    "        if isinstance(o, Hello):\n",
    "            return {\n",
    "                \"class\": \"Hello\",\n",
    "                \"message\": o.__str__()\n",
    "            }\n",
    "        return super().default(o)\n",
    "# data\n",
    "data = {}\n",
    "\n",
    "data[\"name\"] = \"Bob\"\n",
    "data[\"age\"] = 25\n",
    "data[\"languages\"] = [\"SQL\",'Java','Python']\n",
    "data[\"Hello\"] = Hello()\n",
    "\n",
    "# write into a json file\n",
    "with open(\"user.json\", \"w\") as file:\n",
    "    json.dump(data, file, indent=4, cls = HelloEncoder) # indent - pretty print\n",
    "\n",
    "# deserialization (decoding)\n",
    "def hello_decoder(o):\n",
    "    if isinstance(o, dict):\n",
    "        cl = o.get(\"class\", None)\n",
    "        if cl and cl == \"Hello\":\n",
    "            return Hello()\n",
    "    return o\n",
    "\n"
   ]
  },
  {
   "cell_type": "code",
   "execution_count": null,
   "id": "c1c9e0ea",
   "metadata": {},
   "outputs": [
    {
     "name": "stdout",
     "output_type": "stream",
     "text": [
      "{'name': 'Bob', 'age': 25, 'languages': ['SQL', 'Java', 'Python'], 'Hello': {'class': 'Hello', 'message': 'Hello'}}\n",
      "{'name': 'Bob', 'age': 25, 'languages': ['SQL', 'Java', 'Python'], 'Hello': <__main__.Hello object at 0x73c891910ef0>}\n"
     ]
    }
   ],
   "source": [
    "# read from json file\n",
    "with open(\"user.json\", \"r\") as file:\n",
    "    data2 = json.load(file)\n",
    "\n",
    "# access data\n",
    "print(data2)\n",
    "\n",
    "with open(\"user.json\", \"r\") as file:\n",
    "    data2 = json.load(file, object_hook= hello_decoder)\n",
    "print(data2)"
   ]
  },
  {
   "cell_type": "code",
   "execution_count": null,
   "id": "d04264b8",
   "metadata": {},
   "outputs": [],
   "source": [
    "# perform a request to a website\n",
    "\n",
    "import requests\n",
    "import json\n",
    "\n",
    "response = requests.get(\"https://jsonplaceholder.typicode.com/users\")\n",
    "\n",
    "with open(\"response.json\", 'w') as file:\n",
    "    json.dump(response.json(), file, indent = 4)\n",
    "\n",
    "# TODO    \n",
    "# read the info from response.json\n",
    "# print the list of companies names"
   ]
  }
 ],
 "metadata": {
  "kernelspec": {
   "display_name": "Python 3",
   "language": "python",
   "name": "python3"
  },
  "language_info": {
   "codemirror_mode": {
    "name": "ipython",
    "version": 3
   },
   "file_extension": ".py",
   "mimetype": "text/x-python",
   "name": "python",
   "nbconvert_exporter": "python",
   "pygments_lexer": "ipython3",
   "version": "3.12.1"
  }
 },
 "nbformat": 4,
 "nbformat_minor": 5
}
