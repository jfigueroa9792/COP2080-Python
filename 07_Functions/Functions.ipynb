{
 "cells": [
  {
   "cell_type": "code",
   "execution_count": null,
   "id": "f6a4d787",
   "metadata": {},
   "outputs": [
    {
     "name": "stdout",
     "output_type": "stream",
     "text": [
      "9\n",
      "27\n",
      "Return the square of a number.\n",
      "22 5 10\n",
      "3\n",
      "8\n"
     ]
    }
   ],
   "source": [
    "# default arguments\n",
    "def power(base, exponent = 2):\n",
    "    return base ** exponent\n",
    "\n",
    "print(power(3))\n",
    "print(power(3,3))\n",
    "\n",
    "def square(num):\n",
    "    \"\"\"Return the square of a number.\"\"\" # docstring\n",
    "    return num * num\n",
    "\n",
    "# multi-line docstring\n",
    "def multiply(a,b):\n",
    "    '''Multiple two numbers.\n",
    "    \n",
    "    args: \n",
    "        a (float): first number.\n",
    "        b (float): second number.\n",
    "    \n",
    "    returns: Product of the a and b.'''\n",
    "\n",
    "print(square.__doc__)\n",
    "\n",
    "# explaining global and local variables\n",
    "global_var = 20\n",
    "def access_global():\n",
    "    print(global_var)\n",
    "\n",
    "def get_stats(numbers):\n",
    "    return sum(numbers), len(numbers), max(numbers)\n",
    "\n",
    "total, count, maximum = get_stats([1,2,10,4,5])\n",
    "print(total, count, maximum)\n",
    "\n",
    "# if you dont need all values\n",
    "def divide_and_remainder(a,b):\n",
    "    return a // b, a % b\n",
    "q, _ = divide_and_remainder(10,3)\n",
    "print(q)\n",
    "\n",
    "# function annotation\n",
    "def add(a: int, b: int) -> int:\n",
    "    return a+b "
   ]
  },
  {
   "cell_type": "code",
   "execution_count": 17,
   "id": "ef0902e0",
   "metadata": {},
   "outputs": [
    {
     "name": "stdout",
     "output_type": "stream",
     "text": [
      "Inputs: 1, 3\n",
      "Add: 4\n",
      "1, 3\n",
      "Subtract: -2\n",
      "1, 3\n",
      "Multiply: 3\n",
      "1, 3\n",
      "Division: 0.3333333333333333\n",
      "\n",
      "Inputs: 9, 7\n",
      "Add: 16\n",
      "9, 7\n",
      "Subtract: 2\n",
      "9, 7\n",
      "Multiply: 63\n",
      "9, 7\n",
      "Division: 1.2857142857142858\n",
      "\n",
      "Inputs: 10, 8\n",
      "Add: 18\n",
      "10, 8\n",
      "Subtract: 2\n",
      "10, 8\n",
      "Multiply: 80\n",
      "10, 8\n",
      "Division: 1.25\n",
      "\n"
     ]
    }
   ],
   "source": [
    "# lambda functions\n",
    "\n",
    "# lamba allows for simple use funciton\n",
    "greet = lambda: print(\"hello, world!\")\n",
    "\n",
    "add = lambda x,y: x+y\n",
    "subtract = lambda x,y: x-y\n",
    "multiply = lambda x,y: x*y\n",
    "divide = lambda x,y: x/y if y != 0 else \"Error: Division by zero\"\n",
    "\n",
    "#print(result)\n",
    "\n",
    "inputs = [(1,3), (9,7), (10,8)]\n",
    "for x,y in inputs:\n",
    "    print(f'Inputs: {x}, {y}\\nAdd: {add(x,y)}')\n",
    "    print(f'{x}, {y}\\nSubtract: {subtract(x,y)}')\n",
    "    print(f'{x}, {y}\\nMultiply: {multiply(x,y)}')\n",
    "    print(f'{x}, {y}\\nDivision: {divide(x,y)}\\n')\n",
    "\n",
    "\n",
    "# create subtract, multiply, and divide"
   ]
  }
 ],
 "metadata": {
  "kernelspec": {
   "display_name": "Python 3",
   "language": "python",
   "name": "python3"
  },
  "language_info": {
   "codemirror_mode": {
    "name": "ipython",
    "version": 3
   },
   "file_extension": ".py",
   "mimetype": "text/x-python",
   "name": "python",
   "nbconvert_exporter": "python",
   "pygments_lexer": "ipython3",
   "version": "3.12.1"
  }
 },
 "nbformat": 4,
 "nbformat_minor": 5
}
