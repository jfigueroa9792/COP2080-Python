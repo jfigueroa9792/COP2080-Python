{
 "cells": [
  {
   "cell_type": "code",
   "execution_count": 1,
   "id": "fa84f50b",
   "metadata": {},
   "outputs": [
    {
     "name": "stdout",
     "output_type": "stream",
     "text": [
      "35\n",
      "8\n",
      "64\n"
     ]
    }
   ],
   "source": [
    "# int function\n",
    "print(int(35.4))\n",
    "print(int(\"1000\",2))\n",
    "print(int(\"100\", 8))"
   ]
  },
  {
   "cell_type": "code",
   "execution_count": 2,
   "id": "85b334b8",
   "metadata": {},
   "outputs": [
    {
     "name": "stdout",
     "output_type": "stream",
     "text": [
      "True\n",
      "False\n",
      "True\n",
      "False\n",
      "True\n",
      "True\n"
     ]
    }
   ],
   "source": [
    "# bool function (True, False)\n",
    "print(bool(True)) #true\n",
    "print(bool(0)) #false   \n",
    "print(bool(-1)) #true\n",
    "print(bool(not True)) #false\n",
    "print(bool(True and True)) #false\n",
    "print(bool(True or False)) #false\n"
   ]
  },
  {
   "cell_type": "code",
   "execution_count": 3,
   "id": "a64fc210",
   "metadata": {},
   "outputs": [
    {
     "name": "stdout",
     "output_type": "stream",
     "text": [
      "0.30000000000000004\n"
     ]
    }
   ],
   "source": [
    "# floats\n",
    "n2 = .1\n",
    "print(n2+n2+n2)"
   ]
  },
  {
   "cell_type": "code",
   "execution_count": 4,
   "id": "fff2c8da",
   "metadata": {},
   "outputs": [
    {
     "name": "stdout",
     "output_type": "stream",
     "text": [
      "0.3\n"
     ]
    }
   ],
   "source": [
    "# decimal\n",
    "from decimal import Decimal\n",
    "d = Decimal(\"0.1\") + Decimal(\"0.1\") + Decimal(\"0.1\")\n",
    "print(d)"
   ]
  },
  {
   "cell_type": "code",
   "execution_count": 5,
   "id": "8e25e024",
   "metadata": {},
   "outputs": [
    {
     "name": "stdout",
     "output_type": "stream",
     "text": [
      "this is a string\n",
      "this is also a string\n",
      "Joel Figueroa\n",
      "JOEL FIGUEROA\n",
      "joel figueroa\n",
      "'Hello'\n",
      "I love Python Java java\n"
     ]
    }
   ],
   "source": [
    "# strings\n",
    "print('this is a string')\n",
    "print(\"this is also a string\")\n",
    "\n",
    "name = \"joel figueroa\"\n",
    "print(name.title())\n",
    "print(name.upper())\n",
    "print(name.lower())\n",
    "\n",
    "text = \"    Hello    \"\n",
    "print(\"'\" + text.strip() + \"'\")\n",
    "\n",
    "msg = \"I love Java Java java\"\n",
    "print(msg.replace(\"Java\", \"Python\", 1))"
   ]
  },
  {
   "cell_type": "code",
   "execution_count": 6,
   "id": "016beb58",
   "metadata": {},
   "outputs": [
    {
     "name": "stdout",
     "output_type": "stream",
     "text": [
      "['__add__', '__class__', '__contains__', '__delattr__', '__dir__', '__doc__', '__eq__', '__format__', '__ge__', '__getattribute__', '__getitem__', '__getnewargs__', '__getstate__', '__gt__', '__hash__', '__init__', '__init_subclass__', '__iter__', '__le__', '__len__', '__lt__', '__mod__', '__mul__', '__ne__', '__new__', '__reduce__', '__reduce_ex__', '__repr__', '__rmod__', '__rmul__', '__setattr__', '__sizeof__', '__str__', '__subclasshook__', 'capitalize', 'casefold', 'center', 'count', 'encode', 'endswith', 'expandtabs', 'find', 'format', 'format_map', 'index', 'isalnum', 'isalpha', 'isascii', 'isdecimal', 'isdigit', 'isidentifier', 'islower', 'isnumeric', 'isprintable', 'isspace', 'istitle', 'isupper', 'join', 'ljust', 'lower', 'lstrip', 'maketrans', 'partition', 'removeprefix', 'removesuffix', 'replace', 'rfind', 'rindex', 'rjust', 'rpartition', 'rsplit', 'rstrip', 'split', 'splitlines', 'startswith', 'strip', 'swapcase', 'title', 'translate', 'upper', 'zfill']\n",
      "['__abs__', '__add__', '__and__', '__bool__', '__ceil__', '__class__', '__delattr__', '__dir__', '__divmod__', '__doc__', '__eq__', '__float__', '__floor__', '__floordiv__', '__format__', '__ge__', '__getattribute__', '__getnewargs__', '__getstate__', '__gt__', '__hash__', '__index__', '__init__', '__init_subclass__', '__int__', '__invert__', '__le__', '__lshift__', '__lt__', '__mod__', '__mul__', '__ne__', '__neg__', '__new__', '__or__', '__pos__', '__pow__', '__radd__', '__rand__', '__rdivmod__', '__reduce__', '__reduce_ex__', '__repr__', '__rfloordiv__', '__rlshift__', '__rmod__', '__rmul__', '__ror__', '__round__', '__rpow__', '__rrshift__', '__rshift__', '__rsub__', '__rtruediv__', '__rxor__', '__setattr__', '__sizeof__', '__str__', '__sub__', '__subclasshook__', '__truediv__', '__trunc__', '__xor__', 'as_integer_ratio', 'bit_count', 'bit_length', 'conjugate', 'denominator', 'from_bytes', 'imag', 'is_integer', 'numerator', 'real', 'to_bytes']\n"
     ]
    }
   ],
   "source": [
    "# dir built-in function (BIF)\n",
    "print(dir(str))\n",
    "print(dir(int))\n"
   ]
  },
  {
   "cell_type": "code",
   "execution_count": 7,
   "id": "869956c5",
   "metadata": {},
   "outputs": [
    {
     "name": "stdout",
     "output_type": "stream",
     "text": [
      "Help on method_descriptor:\n",
      "\n",
      "strip(self, chars=None, /)\n",
      "    Return a copy of the string with leading and trailing whitespace removed.\n",
      "\n",
      "    If chars is given and not None, remove characters in chars instead.\n",
      "\n"
     ]
    }
   ],
   "source": [
    "#help BIF\n",
    "help(str.strip)"
   ]
  },
  {
   "cell_type": "code",
   "execution_count": 8,
   "id": "41639397",
   "metadata": {},
   "outputs": [
    {
     "name": "stdout",
     "output_type": "stream",
     "text": [
      "Joel Figueroa\n"
     ]
    }
   ],
   "source": [
    "# f-strings Practice\n",
    "\n",
    "\n",
    "first_name = \"joel\"\n",
    "last_name = \"figueroa\"\n",
    "\n",
    "full_name = f\"{first_name} {last_name}\"\n",
    "print(full_name.title())"
   ]
  }
 ],
 "metadata": {
  "kernelspec": {
   "display_name": "Python 3",
   "language": "python",
   "name": "python3"
  },
  "language_info": {
   "codemirror_mode": {
    "name": "ipython",
    "version": 3
   },
   "file_extension": ".py",
   "mimetype": "text/x-python",
   "name": "python",
   "nbconvert_exporter": "python",
   "pygments_lexer": "ipython3",
   "version": "3.12.1"
  }
 },
 "nbformat": 4,
 "nbformat_minor": 5
}
