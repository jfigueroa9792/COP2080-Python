{
 "cells": [
  {
   "cell_type": "code",
   "execution_count": 4,
   "id": "2d4e674b",
   "metadata": {},
   "outputs": [
    {
     "name": "stdout",
     "output_type": "stream",
     "text": [
      "[15, 30, 45]\n",
      "[1, 4, 9, 16, 25, 36, 49, 64, 81, 100]\n"
     ]
    }
   ],
   "source": [
    "# List comprehension\n",
    "multiples = [x for x in range(1,51) if x % 3 == 0 and x % 5 == 0]\n",
    "print(multiples)\n",
    "\n",
    "# practice\n",
    "\n",
    "# added\n",
    "num = input()\n",
    "squares = [x**2 for x in range(1,int(num)+1)]\n",
    "print(squares)"
   ]
  },
  {
   "cell_type": "code",
   "execution_count": 20,
   "id": "0a272def",
   "metadata": {},
   "outputs": [
    {
     "name": "stdout",
     "output_type": "stream",
     "text": [
      "[1, 2, 3, 4]\n",
      "[1, 2, 1, 2]\n",
      "[2]\n",
      "3\n",
      "[1, 2, 22, 3, 5]\n",
      "[1, 2, 3]\n",
      "1\n",
      "2\n",
      "[-1, 2, 2, 6]\n",
      "[6, 2, 2, -1]\n"
     ]
    }
   ],
   "source": [
    "# List operators\n",
    "list1 = [1,2]\n",
    "list2 = [3,4]\n",
    "print(list1 + list2)\n",
    "print(list1 * 2)\n",
    "print(list1[1:])\n",
    "print(list2[-2])\n",
    "\n",
    "# append() and insert()\n",
    "num = [1,2,3]\n",
    "num.append(5)\n",
    "num.insert(2,22) # first index then value\n",
    "print(num)\n",
    "\n",
    "# remove() and index()\n",
    "numbers = [1,2,2,3]\n",
    "numbers.remove(2) # removes the first occurence of the value specified\n",
    "print(numbers)\n",
    "print(numbers.index(2)) # returns the index of the first occurence of the value\n",
    "\n",
    "# count() and sort(), sorted()\n",
    "numbers2 = [2,6,2,-1]\n",
    "print(numbers2.count(2))\n",
    "numbers2.sort()\n",
    "print(numbers2)\n",
    "numbers2.sort(reverse = True)\n",
    "print(numbers2)"
   ]
  },
  {
   "cell_type": "code",
   "execution_count": 18,
   "id": "81fae6a9",
   "metadata": {},
   "outputs": [
    {
     "name": "stdout",
     "output_type": "stream",
     "text": [
      "[1, 1, 1]\n",
      "True\n"
     ]
    }
   ],
   "source": [
    "# in class\n",
    "# get the list\n",
    "n = int(input(\"Enter the number of elements:\"))\n",
    "elements = []\n",
    "\n",
    "while n:\n",
    "    elements.append(int(input()))\n",
    "    n -= 1\n",
    "print(elements)\n",
    "if(len(elements) < 2):\n",
    "    print(\"True\")\n",
    "else:\n",
    "    print(bool(elements.count(elements[0]) == len(elements)))\n"
   ]
  },
  {
   "cell_type": "code",
   "execution_count": null,
   "id": "8c5a0314",
   "metadata": {},
   "outputs": [
    {
     "name": "stdout",
     "output_type": "stream",
     "text": [
      "(1, 'hello', 3.14)\n"
     ]
    }
   ],
   "source": [
    "# Tuples / immutable (cannot be changed) but can store multiple data types\n",
    "\n",
    "my_tuple = (1, \"hello\", 3.14)\n",
    "print(my_tuple)"
   ]
  },
  {
   "cell_type": "code",
   "execution_count": null,
   "id": "a63662a2",
   "metadata": {},
   "outputs": [
    {
     "name": "stdout",
     "output_type": "stream",
     "text": [
      "1\n",
      "True\n",
      "False\n",
      "1 2 hello 3.4\n",
      "2\n"
     ]
    }
   ],
   "source": [
    "# in class\n",
    "# create a tuple\n",
    "\n",
    "my_tuple = (1, 2, \"hello\", 3.4)\n",
    "print(my_tuple[0])\n",
    "\n",
    "# my_tuple[1] = 9 / this does not work\n",
    "\n",
    "# Membership test\n",
    "print(1 in my_tuple)\n",
    "print(5 in my_tuple)\n",
    "\n",
    "# tuple unpacking\n",
    "a, b, c, d = my_tuple\n",
    "print(a,b,c,d)\n",
    "\n",
    "# nested tuple\n",
    "points = (\n",
    "    (1,2,3),\n",
    "    (4,5,6),\n",
    "    (7,8,9)\n",
    ")\n",
    "print(points[0][1])"
   ]
  },
  {
   "cell_type": "code",
   "execution_count": 36,
   "id": "f272a81f",
   "metadata": {},
   "outputs": [
    {
     "name": "stdout",
     "output_type": "stream",
     "text": [
      "{'name': 'Jack', 'age': 25, 'city': 'Lakeland'}\n",
      "{'name': 'Anna', 'age': 19, 'city': 'Orlando'}\n"
     ]
    }
   ],
   "source": [
    "# dictionary / mutable, unordered collection of key pairs. keys must me immutable\n",
    "d = {\"name\": \"Jack\", \"age\": 25, \"city\": \"Lakeland\"}\n",
    "\n",
    "d2 = dict(name = \"Anna\", age = 19, city = \"Orlando\")\n",
    "\n",
    "print(d)\n",
    "print(d2)"
   ]
  }
 ],
 "metadata": {
  "kernelspec": {
   "display_name": "Python 3",
   "language": "python",
   "name": "python3"
  },
  "language_info": {
   "codemirror_mode": {
    "name": "ipython",
    "version": 3
   },
   "file_extension": ".py",
   "mimetype": "text/x-python",
   "name": "python",
   "nbconvert_exporter": "python",
   "pygments_lexer": "ipython3",
   "version": "3.12.1"
  }
 },
 "nbformat": 4,
 "nbformat_minor": 5
}
