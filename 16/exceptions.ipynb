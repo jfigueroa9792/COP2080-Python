{
 "cells": [
  {
   "cell_type": "code",
   "execution_count": null,
   "id": "b2fb4a94",
   "metadata": {},
   "outputs": [
    {
     "ename": "TypeError",
     "evalue": "unsupported operand type(s) for +: 'int' and 'str'",
     "output_type": "error",
     "traceback": [
      "\u001b[31m---------------------------------------------------------------------------\u001b[39m",
      "\u001b[31mTypeError\u001b[39m                                 Traceback (most recent call last)",
      "\u001b[36mCell\u001b[39m\u001b[36m \u001b[39m\u001b[32mIn[10]\u001b[39m\u001b[32m, line 2\u001b[39m\n\u001b[32m      1\u001b[39m a = \u001b[32m1\u001b[39m\n\u001b[32m----> \u001b[39m\u001b[32m2\u001b[39m \u001b[43ma\u001b[49m\u001b[43m \u001b[49m\u001b[43m+\u001b[49m\u001b[43m \u001b[49m\u001b[33;43m\"\u001b[39;49m\u001b[33;43ma\u001b[39;49m\u001b[33;43m\"\u001b[39;49m\n\u001b[32m      4\u001b[39m \u001b[38;5;28mprint\u001b[39m(\u001b[33m\"\u001b[39m\u001b[33mvery important code\u001b[39m\u001b[33m\"\u001b[39m)\n",
      "\u001b[31mTypeError\u001b[39m: unsupported operand type(s) for +: 'int' and 'str'"
     ]
    }
   ],
   "source": [
    "a = 1\n",
    "a + \"a\"\n",
    "\n",
    "print(\"very important code\")\n",
    "\n",
    "# returns a type error and crashes the compiler\n"
   ]
  },
  {
   "cell_type": "code",
   "execution_count": null,
   "id": "0b0742b3",
   "metadata": {},
   "outputs": [
    {
     "name": "stdout",
     "output_type": "stream",
     "text": [
      "Cannot add a string and an int\n",
      "Very important code\n"
     ]
    }
   ],
   "source": [
    "# try exception block\n",
    "try:\n",
    "    a = 1\n",
    "    a + \"a\"\n",
    "except TypeError as e:\n",
    "    print(\"Cannot add a string and an int\")\n",
    "print(\"Very important code\")\n",
    "\n",
    "# allows the compiler to process the error in a user-friendly way and continue the compiler without breaking"
   ]
  },
  {
   "cell_type": "code",
   "execution_count": 9,
   "id": "6cb74016",
   "metadata": {},
   "outputs": [
    {
     "name": "stdout",
     "output_type": "stream",
     "text": [
      "Error: list index out of range\n"
     ]
    }
   ],
   "source": [
    "def f():\n",
    "    l = [1,2,3]\n",
    "    print(l[3])\n",
    "\n",
    "try:\n",
    "    f()\n",
    "except IndexError as e:\n",
    "    print(f'Error: {e}')"
   ]
  },
  {
   "cell_type": "code",
   "execution_count": 16,
   "id": "9ca3f29b",
   "metadata": {},
   "outputs": [
    {
     "name": "stdout",
     "output_type": "stream",
     "text": [
      "both arguments must be strings\n"
     ]
    }
   ],
   "source": [
    "# raise exceptions\n",
    "def add_string(s1,s2):\n",
    "    if not (isinstance(s1,str) and isinstance(s2, str)):\n",
    "        raise TypeError(\"both arguments must be strings\")\n",
    "\n",
    "    return s1 + s2\n",
    "\n",
    "try:\n",
    "    sum = add_string(\"123\",345)\n",
    "    print(\"I want this to be executed\") \n",
    "except TypeError as e:\n",
    "    print(e)\n",
    "else:\n",
    "    print(sum)"
   ]
  },
  {
   "cell_type": "code",
   "execution_count": null,
   "id": "19ae00a2",
   "metadata": {},
   "outputs": [
    {
     "name": "stdout",
     "output_type": "stream",
     "text": [
      "Error:Temperature cannot be below absolute zero (-273)\n"
     ]
    }
   ],
   "source": [
    "class Temperature:\n",
    "    def __init__(self, celsius):\n",
    "        if not isinstance(celsius, (int,float)):\n",
    "            raise TypeError(f\"Temperature has to be a float, you've entered a {type(celsius)}\")\n",
    "        elif celsius < -273:\n",
    "            raise ValueError(\"Temperature cannot be below absolute zero (-273)\")\n",
    "        self.celsius = celsius\n",
    "    \n",
    "try:\n",
    "    temp = Temperature(-280)\n",
    "except (ValueError,TypeError) as e:\n",
    "    print(f\"Error:{e}\")"
   ]
  },
  {
   "cell_type": "code",
   "execution_count": 40,
   "id": "2a65621f",
   "metadata": {},
   "outputs": [
    {
     "name": "stdout",
     "output_type": "stream",
     "text": [
      "Error: Min temp must be lower than max temp\n"
     ]
    }
   ],
   "source": [
    "# create our custom type exception\n",
    "\n",
    "class TemperatureRangeError(ValueError):\n",
    "    '''Raised when temperature range is invalid'''\n",
    "\n",
    "\n",
    "class Temperature:\n",
    "    def __init__(self, celsius):\n",
    "        if not isinstance(celsius, (int,float)):\n",
    "            raise TypeError(f\"Temperature has to be a float, you've entered a {type(celsius)}\")\n",
    "        elif celsius < -273:\n",
    "            raise ValueError(\"Temperature cannot be below absolute zero (-273)\")\n",
    "        self.celsius = celsius\n",
    "        self.min_temp = 0\n",
    "        self.max_temp = 0\n",
    "\n",
    "    def set_Range(self, min_temp, max_temp):\n",
    "        if not (isinstance(min_temp, Temperature) and isinstance(max_temp, Temperature)):\n",
    "            raise TypeError(\"Min and max temp should be Temperature objects\")\n",
    "        elif min_temp.celsius > max_temp.celsius:\n",
    "            raise TemperatureRangeError(\"Min temp must be lower than max temp\")\n",
    "        self.min_temp, self.max_temp = min_temp, max_temp\n",
    "\n",
    "    \n",
    "try:\n",
    "    temp = Temperature(-30)\n",
    "    temp.set_Range(Temperature(11), Temperature(10))\n",
    "except (ValueError,TypeError,TemperatureRangeError) as e:\n",
    "    print(f\"Error: {e}\")"
   ]
  }
 ],
 "metadata": {
  "kernelspec": {
   "display_name": "Python 3",
   "language": "python",
   "name": "python3"
  },
  "language_info": {
   "codemirror_mode": {
    "name": "ipython",
    "version": 3
   },
   "file_extension": ".py",
   "mimetype": "text/x-python",
   "name": "python",
   "nbconvert_exporter": "python",
   "pygments_lexer": "ipython3",
   "version": "3.12.1"
  }
 },
 "nbformat": 4,
 "nbformat_minor": 5
}
