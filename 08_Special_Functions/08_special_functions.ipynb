{
 "cells": [
  {
   "cell_type": "code",
   "execution_count": null,
   "id": "0fb953c5",
   "metadata": {},
   "outputs": [
    {
     "name": "stdout",
     "output_type": "stream",
     "text": [
      "ZLUWH\n",
      "[1, 4, 9, 16]\n",
      "['PYTHON', 'C', 'JAVA']\n",
      "['Hello World', 'Python Programming', 'Data Science']\n",
      "[2, 4, 6]\n"
     ]
    }
   ],
   "source": [
    "\n",
    "# A+ attendance\n",
    "input = \"jdjZjfoLUlsjWH\"\n",
    "test = lambda x: x if x == x.upper() else ''\n",
    "\n",
    "out = \"\"\n",
    "for i in input: \n",
    "    out += test(i)\n",
    "print(out)\n",
    "#---------------------------------------------\n"
   ]
  },
  {
   "cell_type": "code",
   "execution_count": null,
   "id": "66484f66",
   "metadata": {},
   "outputs": [],
   "source": [
    "# map function\n",
    "# receives a function, and iteratable and returns an interatable based on the function\n",
    "numbers = [1,2,3,4]\n",
    "squared = map(lambda x: x**2, numbers)\n",
    "print(list(squared))\n",
    "\n",
    "'''def double(x):\n",
    "    return x * 2\n",
    "doubled() = map(double, numbers)\n",
    "print(list(doubled))'''\n",
    "\n",
    "words = ['python','c','java']\n",
    "uppercase = map(str.upper,words)\n",
    "uppercase = list(uppercase)\n",
    "print(uppercase)\n",
    "\n",
    "texts = [' Hello World ', 'Python Programming', '   Data Science  ']\n",
    "cleaned = map(lambda s: \" \".join(s.split()), texts)\n",
    "print(list(cleaned))\n",
    "\n",
    "users = [{'id': 1, 'name': 'Alice', 'email': 'alice@example.com'},\n",
    "         {'id': 2, 'name': 'Bob', 'email': 'Bob@example.com'},\n",
    "         {'id': 3, 'name': 'Charlie', 'email': 'Charlie@example.com'}]"
   ]
  },
  {
   "cell_type": "code",
   "execution_count": null,
   "id": "22e2c9f0",
   "metadata": {},
   "outputs": [
    {
     "name": "stdout",
     "output_type": "stream",
     "text": [
      "[2, 4, 6]\n",
      "[4, 16, 36]\n"
     ]
    }
   ],
   "source": [
    "# Filter()\n",
    "# returns true or false to each item in an iterable // filter(function, iterable)\n",
    "numbers = [1,2,3,4,5,6]\n",
    "even = filter(lambda x: x % 2 == 0, numbers)\n",
    "print(list(even))\n",
    "\n",
    "result = map(lambda x: x**2, filter(lambda x: x % 2 == 0, numbers))\n",
    "print(list(result))\n",
    "\n",
    "# map is applied to all elements, while filter selects elements based on the condition"
   ]
  },
  {
   "cell_type": "code",
   "execution_count": null,
   "id": "e24ef381",
   "metadata": {},
   "outputs": [
    {
     "name": "stdout",
     "output_type": "stream",
     "text": [
      "['HELLO', 'BANANA', 'POLY']\n"
     ]
    }
   ],
   "source": [
    "# comprehensions\n",
    "\n",
    "def long_upper_words(words):\n",
    "    '''Return a list uppercase words longer than 3 characters'''\n",
    "    return[word.upper() for word in words if len(word) > 3]\n",
    "words = [\"hello\",\"banana\",\"BMW\",\"bye\",\"POLY\"]\n",
    "print(long_upper_words(words))\n",
    "\n",
    "# create a function that return a dictionary mapping each word to its length from a list of words\n",
    "def word_lengths(words):\n",
    "    return {words.append() for word in words} # TO DO\n",
    "print(word_lengths(words))"
   ]
  }
 ],
 "metadata": {
  "kernelspec": {
   "display_name": "Python 3",
   "language": "python",
   "name": "python3"
  },
  "language_info": {
   "codemirror_mode": {
    "name": "ipython",
    "version": 3
   },
   "file_extension": ".py",
   "mimetype": "text/x-python",
   "name": "python",
   "nbconvert_exporter": "python",
   "pygments_lexer": "ipython3",
   "version": "3.12.1"
  }
 },
 "nbformat": 4,
 "nbformat_minor": 5
}
