{
 "cells": [
  {
   "cell_type": "code",
   "execution_count": 6,
   "id": "f208659b",
   "metadata": {},
   "outputs": [
    {
     "name": "stdout",
     "output_type": "stream",
     "text": [
      "Hello, alice!\n",
      "Bob is 25 years old\n",
      "Carol is 30 years old\n",
      "Hi, Eve!\n",
      "6\n",
      "100\n",
      "name: Frank\n",
      "age: 35\n",
      "city: New York\n"
     ]
    }
   ],
   "source": [
    "# function is a sequence of instructions that perform a task\n",
    "# defined by using the def keyword, terminated by a pair of parenthesis. : signals the end of the cunftion def line. \n",
    "\n",
    "def greet(name, greeting = \"Hello\"):\n",
    "    message = f\"{greeting}, {name}!\"\n",
    "    return message\n",
    "\n",
    "result = greet(\"alice\")\n",
    "print(result)\n",
    "\n",
    "\n",
    "# types of arguments: positional, keyword, default, and variable-length\n",
    "# positional: passed in the order defined\n",
    "# keyword: passed by explicitly naming the parameter\n",
    "# default: parameters with default values if no argument is passed\n",
    "# variable-length: passing a variable numver of arguments using args or kargs\n",
    "\n",
    "#positional\n",
    "def introduce(name, age):\n",
    "    return f\"{name} is {age} years old\"\n",
    "print(introduce(\"Bob\", 25))\n",
    "\n",
    "#keyword\n",
    "print(introduce(age = 30, name = \"Carol\"))\n",
    "\n",
    "#default\n",
    "print(greet(\"Eve\",\"Hi\")) # changes the default greeting to \"Hi\"\n",
    "\n",
    "#variable-length\n",
    "\n",
    "def sum_numbers(*args):\n",
    "    total = 0\n",
    "    for num in args:\n",
    "        total += num\n",
    "    return total\n",
    "print(sum_numbers(1,2,3))\n",
    "print(sum_numbers(10,20,30,40))\n",
    "\n",
    "def print_info(**kwargs):\n",
    "    for key, value in kwargs.items():\n",
    "        print(f\"{key}: {value}\")\n",
    "print_info(name = \"Frank\", age = 35, city = \"New York\")"
   ]
  },
  {
   "cell_type": "code",
   "execution_count": 8,
   "id": "9e56073b",
   "metadata": {},
   "outputs": [
    {
     "name": "stdout",
     "output_type": "stream",
     "text": [
      "10\n",
      "24\n",
      "100\n",
      "None\n"
     ]
    }
   ],
   "source": [
    "def process_nums(*args):\n",
    "    if not args:\n",
    "        return 0\n",
    "    operation = args[-1]\n",
    "    if operation == \"sum\":\n",
    "        return sum(args[:-1])\n",
    "    elif operation == \"product\":\n",
    "        result = 1\n",
    "        for num in args[:-1]:\n",
    "            result *= num\n",
    "        return result\n",
    "    elif operation == \"max\":\n",
    "        return max(args[:-1])\n",
    "    return None\n",
    "\n",
    "print(process_nums(1,2,3,4,\"sum\"))\n",
    "print(process_nums(1,2,3,4,\"product\"))\n",
    "print(process_nums(1,2,3,4,100,\"max\"))\n",
    "print(process_nums(1,2,3,4,-1,9,\"average\"))"
   ]
  },
  {
   "cell_type": "code",
   "execution_count": 9,
   "id": "d5ca589d",
   "metadata": {},
   "outputs": [
    {
     "name": "stdout",
     "output_type": "stream",
     "text": [
      "None\n"
     ]
    }
   ],
   "source": [
    "def create_message(*args,**kwargs):\n",
    "    pass\n",
    "\n",
    "\n",
    "\n",
    "print(create_message(\"1\",\"2\",\"Hello\", separator = \"-\"))"
   ]
  }
 ],
 "metadata": {
  "kernelspec": {
   "display_name": "Python 3",
   "language": "python",
   "name": "python3"
  },
  "language_info": {
   "codemirror_mode": {
    "name": "ipython",
    "version": 3
   },
   "file_extension": ".py",
   "mimetype": "text/x-python",
   "name": "python",
   "nbconvert_exporter": "python",
   "pygments_lexer": "ipython3",
   "version": "3.12.1"
  }
 },
 "nbformat": 4,
 "nbformat_minor": 5
}
