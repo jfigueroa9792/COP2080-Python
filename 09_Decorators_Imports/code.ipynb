{
 "cells": [
  {
   "cell_type": "code",
   "execution_count": 2,
   "id": "4df25997",
   "metadata": {},
   "outputs": [
    {
     "name": "stdout",
     "output_type": "stream",
     "text": [
      "f took 0.4003262519836426\n"
     ]
    }
   ],
   "source": [
    "# decorators\n",
    "# define a function and measure its execution time\n",
    "\n",
    "# specific import\n",
    "from time import sleep, time\n",
    "\n",
    "def f():\n",
    "    sleep(0.4)\n",
    "\n",
    "# get the current time\n",
    "t = time()\n",
    "f()\n",
    "print (\"f took\", time() - t)"
   ]
  },
  {
   "cell_type": "code",
   "execution_count": 5,
   "id": "15c431b3",
   "metadata": {},
   "outputs": [
    {
     "name": "stdout",
     "output_type": "stream",
     "text": [
      "g took 0.20046210289001465\n"
     ]
    }
   ],
   "source": [
    "# Create another function\n",
    "def g():\n",
    "    sleep(0.2)\n",
    "t = time()\n",
    "g()\n",
    "print (\"g took\", time() - t)"
   ]
  },
  {
   "cell_type": "code",
   "execution_count": 8,
   "id": "34cf5b14",
   "metadata": {},
   "outputs": [
    {
     "name": "stdout",
     "output_type": "stream",
     "text": [
      "f took: 0.4000835418701172\n",
      "g took: 0.20009398460388184\n"
     ]
    }
   ],
   "source": [
    "# lets optimize the measurement\n",
    "def measure(func):\n",
    "    t = time() # get current time\n",
    "    func() # call the received function\n",
    "    print(func.__name__, \"took:\", time() - t)\n",
    "\n",
    "measure(f)\n",
    "measure(g)"
   ]
  },
  {
   "cell_type": "code",
   "execution_count": 9,
   "id": "e707a5aa",
   "metadata": {},
   "outputs": [
    {
     "name": "stdout",
     "output_type": "stream",
     "text": [
      "f2 took: 0.10009193420410156\n",
      "f2 took: 0.5001530647277832\n",
      "f2 took: 0.7001073360443115\n"
     ]
    }
   ],
   "source": [
    "def f2(sleep_time = 0.1):\n",
    "    sleep(sleep_time)\n",
    "\n",
    "def measure(func, *args, **kwards):\n",
    "    t = time() # get current time\n",
    "    func(*args, **kwards) # call the received function\n",
    "    print(func.__name__, \"took:\", time() - t)\n",
    "\n",
    "measure(f2)\n",
    "measure(f2, 0.5)\n",
    "measure(f2, sleep_time = 0.7)"
   ]
  },
  {
   "cell_type": "code",
   "execution_count": null,
   "id": "945ba861",
   "metadata": {},
   "outputs": [
    {
     "ename": "ModuleNotFoundError",
     "evalue": "No module named 'Functions'",
     "output_type": "error",
     "traceback": [
      "\u001b[31m---------------------------------------------------------------------------\u001b[39m",
      "\u001b[31mModuleNotFoundError\u001b[39m                       Traceback (most recent call last)",
      "\u001b[36mCell\u001b[39m\u001b[36m \u001b[39m\u001b[32mIn[13]\u001b[39m\u001b[32m, line 2\u001b[39m\n\u001b[32m      1\u001b[39m \u001b[38;5;66;03m# what if i want to build in measurement into a function\u001b[39;00m\n\u001b[32m----> \u001b[39m\u001b[32m2\u001b[39m \u001b[38;5;28;01mimport\u001b[39;00m\u001b[38;5;250m \u001b[39m\u001b[34;01mFunctions\u001b[39;00m\n\u001b[32m      3\u001b[39m \u001b[38;5;28mprint\u001b[39m(Functions.power(\u001b[32m3\u001b[39m))\n\u001b[32m      5\u001b[39m \u001b[38;5;28;01mdef\u001b[39;00m\u001b[38;5;250m \u001b[39m\u001b[34mmeasure\u001b[39m(func):\n",
      "\u001b[31mModuleNotFoundError\u001b[39m: No module named 'Functions'"
     ]
    }
   ],
   "source": [
    "# what if i want to build in measurement into a functions\n",
    "def measure(func):\n",
    "    def wrapper(*args, **kwards):\n",
    "        t = time() # get current time\n",
    "        func(*args, **kwards) # call the received function\n",
    "        print(func.__name__, \"took:\", time() - t)\n",
    "    return wrapper\n",
    "\n",
    "@measure\n",
    "def f2(sleep_time = 0.1):\n",
    "    sleep(sleep_time)\n",
    "\n",
    "f2(1)"
   ]
  }
 ],
 "metadata": {
  "kernelspec": {
   "display_name": "Python 3",
   "language": "python",
   "name": "python3"
  },
  "language_info": {
   "codemirror_mode": {
    "name": "ipython",
    "version": 3
   },
   "file_extension": ".py",
   "mimetype": "text/x-python",
   "name": "python",
   "nbconvert_exporter": "python",
   "pygments_lexer": "ipython3",
   "version": "3.12.1"
  }
 },
 "nbformat": 4,
 "nbformat_minor": 5
}
