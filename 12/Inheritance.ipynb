{
 "cells": [
  {
   "cell_type": "code",
   "execution_count": null,
   "id": "ccf886b8",
   "metadata": {},
   "outputs": [
    {
     "name": "stdout",
     "output_type": "stream",
     "text": [
      "Name: Michael, ID: U1222, Major: Physics\n"
     ]
    }
   ],
   "source": [
    "class Student:\n",
    "    def __init__(self, name, student_id, major):\n",
    "        self.name = name\n",
    "        self.student_id = student_id\n",
    "        self.major = major\n",
    "    \n",
    "    #def __str__(self):\n",
    "    #    return f\"Name: {self.name}, ID: {self.student_id}, Major: {self.major}\"\n",
    "\n",
    "class UndergraduateStudent(Student):\n",
    "    pass\n",
    "\n",
    "if __name__ == \"__main__\":\n",
    "    student = Student(\"Alice\", \"U1020\", \"Computer Science\")\n",
    "\n",
    "undergrad = UndergraduateStudent(\"Michael\", \"U1222\", \"Physics\")\n",
    "print(undergrad)\n",
    "\n"
   ]
  }
 ],
 "metadata": {
  "kernelspec": {
   "display_name": "Python 3",
   "language": "python",
   "name": "python3"
  },
  "language_info": {
   "codemirror_mode": {
    "name": "ipython",
    "version": 3
   },
   "file_extension": ".py",
   "mimetype": "text/x-python",
   "name": "python",
   "nbconvert_exporter": "python",
   "pygments_lexer": "ipython3",
   "version": "3.12.1"
  }
 },
 "nbformat": 4,
 "nbformat_minor": 5
}
