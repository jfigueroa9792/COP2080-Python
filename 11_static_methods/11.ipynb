{
 "cells": [
  {
   "cell_type": "code",
   "execution_count": 4,
   "id": "1890de39",
   "metadata": {},
   "outputs": [
    {
     "name": "stdout",
     "output_type": "stream",
     "text": [
      "RJRJ\n",
      "RJMRJ\n"
     ]
    }
   ],
   "source": [
    "# A+ code\n",
    "\n",
    "s = \"MRJ\"\n",
    "a = s[1:] * 2 # takes the chars \"RJ\" in the string and doubles it\n",
    "b = a[:2] + s[0] + a[2:] # takes the first two chars from a and adds it with m and the last two chars from a\n",
    "print(a)\n",
    "print(b)"
   ]
  },
  {
   "cell_type": "code",
   "execution_count": null,
   "id": "46da67bb",
   "metadata": {},
   "outputs": [
    {
     "name": "stdout",
     "output_type": "stream",
     "text": [
      "4\n",
      "Welcome\n",
      ".img\n",
      ".txt\n",
      "null\n",
      "null\n",
      "image\n"
     ]
    }
   ],
   "source": [
    "# what is an instance method? \n",
    "    # a method that is automatically called when an object is created\n",
    "\n",
    "# Example\n",
    "import math\n",
    "class Circle:\n",
    "    # Construct a circle object\n",
    "    def __init__(self, radius = 1):\n",
    "        self.radius = radius\n",
    "    def getPerimeter(self):\n",
    "        return 2*self.radius*math.pi\n",
    "\n",
    "# example of a an error; init has a argument that is not being met\n",
    "class A:\n",
    "    def __init__(self, i):\n",
    "        self.i = i\n",
    "# error a = A()\n",
    "a = A(4) # solution\n",
    "print(a.i)\n",
    "\n",
    "# Example\n",
    "# write a statement that invokes the turnoff() method on TV object named tv\n",
    "# solution: tv.turnOff()\n",
    "\n",
    "# write a statement to create a circle object with its default radius and assign the object to a reference variable x\n",
    "# solution: x = Circle()\n",
    "\n",
    "# class attributes are public by default; no control over data integrity or encapsulation\n",
    "\n",
    "class BankAccount:\n",
    "    def __init__(self, balance):\n",
    "        self.balance = balance\n",
    "account = BankAccount(1000)\n",
    "# can be accessed outside of the class\n",
    "# two underscores creates a private field or method\n",
    "\n",
    "class BankAccount:\n",
    "    def __init__(self, balance):\n",
    "        self.__balance = balance # now is private\n",
    "account = BankAccount(1000)\n",
    "\n",
    "# def getPropertyName():\n",
    "# def SetPropertyName(PropertyValue):\n",
    "\n",
    "class A:\n",
    "    def __init__(self, newS = \"Welcome\"):\n",
    "        self.__s = newS\n",
    "    def print(self):\n",
    "        print(self.__s)\n",
    "a = A()\n",
    "a.print()\n",
    "\n",
    "# Static Methods: defined within a class but do not require access to instance\n",
    "class MyClass:\n",
    "    @staticmethod\n",
    "    def my_static_method(arg1, arg2):\n",
    "        #method logic here\n",
    "        return result\n",
    "\n",
    "# Static method example\n",
    "class PathUtils:\n",
    "    @staticmethod\n",
    "    def get_extension(filename):\n",
    "        \"\"\"Return a file extension (including the dot)\"\"\"\n",
    "        return filename[filename.rfind(\".\"):] if \".\" in filename else \"null\"\n",
    "    \n",
    "    # TODO\n",
    "    @staticmethod\n",
    "    # return the directory path without the file name\n",
    "    def get_directory(path):\n",
    "        return path[:path.rfind(\".\")] if \".\" in path else \"null\"\n",
    "\n",
    "    #  return the file name from the directory path\n",
    "    def get_basename(path):\n",
    "        pass\n",
    "    \n",
    "# use the class\n",
    "print(PathUtils.get_extension(\"image.img\"))\n",
    "print(PathUtils.get_extension(\"1.txt\"))\n",
    "print(PathUtils.get_extension(\"test\"))\n",
    "print(PathUtils.get_directory(\"test\"))\n",
    "print(PathUtils.get_directory(\"image.img\"))\n",
    "\n",
    "\n",
    "\n"
   ]
  },
  {
   "cell_type": "code",
   "execution_count": 14,
   "id": "591dcf5d",
   "metadata": {},
   "outputs": [
    {
     "name": "stdout",
     "output_type": "stream",
     "text": [
      "<__main__.Book object at 0x758fe4675310>\n",
      "<__main__.Book object at 0x758fe4f9a3c0>\n"
     ]
    }
   ],
   "source": [
    "# class methods: defined within a class. it ensures the first argument is itself\n",
    "\n",
    "# when to use class methods\n",
    "# alternative constructors: provide alternative ways to create instances of a class\n",
    "# class level operators: modify or access class-level attributes\n",
    "# factory: create instances based on different input combinations\n",
    "\n",
    "# Create a book class\n",
    "class Book:\n",
    "    total_books = 0\n",
    "    def __init__(self, title, author, year):\n",
    "        self.title = title\n",
    "        self.author = author\n",
    "        self.year = year\n",
    "        Book.total_books += 1\n",
    "    @classmethod\n",
    "    def from_dict(cls, data):\n",
    "        \"\"\"Create a book object from a dictonary\"\"\"\n",
    "        return cls(data[\"title\"], data[\"author\"], data[\"year\"])\n",
    "    \n",
    "    @classmethod\n",
    "    def reset_total_books(cls):\n",
    "        cls.total_books = 0\n",
    "    \n",
    "# Usage\n",
    "data = {\"title\": \"Learning Python\", \"author\": \"M. Smith\", \"year\" : 2023}\n",
    "book1 = Book(\"Python 101\", \"J. Doe\", 2024)\n",
    "book2 = Book.from_dict(data)\n",
    "\n",
    "print(book1)\n",
    "print(book2)"
   ]
  }
 ],
 "metadata": {
  "kernelspec": {
   "display_name": "Python 3",
   "language": "python",
   "name": "python3"
  },
  "language_info": {
   "codemirror_mode": {
    "name": "ipython",
    "version": 3
   },
   "file_extension": ".py",
   "mimetype": "text/x-python",
   "name": "python",
   "nbconvert_exporter": "python",
   "pygments_lexer": "ipython3",
   "version": "3.12.1"
  }
 },
 "nbformat": 4,
 "nbformat_minor": 5
}
