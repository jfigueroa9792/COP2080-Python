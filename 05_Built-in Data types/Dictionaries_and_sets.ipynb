{
 "cells": [
  {
   "cell_type": "code",
   "execution_count": 2,
   "id": "ea1d9c3e",
   "metadata": {},
   "outputs": [
    {
     "name": "stdout",
     "output_type": "stream",
     "text": [
      "Anna\n",
      "not found\n",
      "dict_keys(['name', 'age', 'city', 'email'])\n",
      "dict_values(['Anna', 20, 'Orlando', 'Jack@floridapoly.edu'])\n",
      "dict_items([('name', 'Anna'), ('age', 20), ('city', 'Orlando'), ('email', 'Jack@floridapoly.edu')])\n"
     ]
    }
   ],
   "source": [
    "# Dictionaries\n",
    "# access a value\n",
    "\n",
    "my_dict = dict(name = \"Anna\", age = 19, city = \"Orlando\")\n",
    "print(my_dict[\"name\"])\n",
    "\n",
    "# modify the valye\n",
    "my_dict[\"age\"] = 20\n",
    "\n",
    "# add a new key-value pair\n",
    "my_dict[\"email\"] = \"Jack@floridapoly.edu\"\n",
    "\n",
    "# use get method\n",
    "print(my_dict.get(\"gpa\", \"not found\")) # return not found if key doesn't exist.\n",
    "\n",
    "#keys -- returns all keys\n",
    "print(my_dict.keys())\n",
    "\n",
    "# values -- returns all values\n",
    "print(my_dict.values())\n",
    "\n",
    "# items -- returns key-value pairs\n",
    "print(my_dict.items())"
   ]
  },
  {
   "cell_type": "code",
   "execution_count": 3,
   "id": "088dee1c",
   "metadata": {},
   "outputs": [
    {
     "name": "stdout",
     "output_type": "stream",
     "text": [
      "name Anna\n",
      "age 19\n",
      "city Orlando\n",
      "name -> Anna\n",
      "age -> 20\n",
      "city -> Orlando\n",
      "email -> Jack@floridapoly.edu\n"
     ]
    }
   ],
   "source": [
    "# iteration over dictionaries\n",
    "\n",
    "info = dict(name = \"Anna\", age = 19, city = \"Orlando\")\n",
    "\n",
    "for key in info:\n",
    "    print(key, info[key])\n",
    "\n",
    "for key, value in my_dict.items():\n",
    "    print(f\"{key} -> {value}\")"
   ]
  },
  {
   "cell_type": "code",
   "execution_count": 4,
   "id": "79399204",
   "metadata": {},
   "outputs": [
    {
     "name": "stdout",
     "output_type": "stream",
     "text": [
      "{'apple': 3, 'banana': 1, 'orange': 2}\n"
     ]
    }
   ],
   "source": [
    "# count the frequency of words using dictionaries\n",
    "\n",
    "msg = \"apple banana orange apple orange apple\"\n",
    "words = msg.split(\" \")\n",
    "# create a dictionary\n",
    "word_count = {}\n",
    "for word in words:\n",
    "    word_count[word] = word_count.get(word, 0) + 1\n",
    "\n",
    "print(word_count)"
   ]
  },
  {
   "cell_type": "code",
   "execution_count": 5,
   "id": "16ee0ffb",
   "metadata": {},
   "outputs": [
    {
     "name": "stdout",
     "output_type": "stream",
     "text": [
      "{'red', 'blue', 'green'}\n",
      "{1, 2, 3, 4}\n",
      "set()\n",
      "{1, 2, 3, 4, 5, 6, 7}\n",
      "{3, 4, 5}\n",
      "{1, 2}\n"
     ]
    }
   ],
   "source": [
    "# Creating a set\n",
    "# Set is a collection of unique elements\n",
    "\n",
    "colors = {\"red\",\"blue\",\"green\"}\n",
    "numbers = set([1,2,3,4,3])\n",
    "\n",
    "# empty set\n",
    "empty_set = set()\n",
    "\n",
    "print(colors)\n",
    "print(numbers) \n",
    "print(empty_set) \n",
    "\n",
    "# combine elements from two sets (union)\n",
    "set1 = {1,2,3,4,5}\n",
    "set2 = {3,4,5,6,7}\n",
    "union_set = set1 | set2\n",
    "intersect_set = set1 & set2\n",
    "print(union_set)\n",
    "print(intersect_set)\n",
    "\n",
    "difference_set = set1 - set2\n",
    "print(difference_set)"
   ]
  },
  {
   "cell_type": "code",
   "execution_count": null,
   "id": "600b0f25",
   "metadata": {},
   "outputs": [
    {
     "name": "stdout",
     "output_type": "stream",
     "text": [
      "{'red', 'green', 'purple'}\n",
      "4UR5L\n"
     ]
    }
   ],
   "source": [
    "# add and remove\n",
    "print(colors)\n",
    "colors.add(\"purple\")\n",
    "colors.discard(\"blue\")\n",
    "\n",
    "# attendance code for 9/10/25\n",
    "\n",
    "s = '4KAUL3RPZ5LWL'\n",
    "attend = s[::3]\n",
    "print(attend)\n"
   ]
  }
 ],
 "metadata": {
  "kernelspec": {
   "display_name": "Python 3",
   "language": "python",
   "name": "python3"
  },
  "language_info": {
   "codemirror_mode": {
    "name": "ipython",
    "version": 3
   },
   "file_extension": ".py",
   "mimetype": "text/x-python",
   "name": "python",
   "nbconvert_exporter": "python",
   "pygments_lexer": "ipython3",
   "version": "3.12.1"
  }
 },
 "nbformat": 4,
 "nbformat_minor": 5
}
