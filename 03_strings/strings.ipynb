{
 "cells": [
  {
   "cell_type": "code",
   "execution_count": 4,
   "id": "b7e5cb9c",
   "metadata": {},
   "outputs": [
    {
     "name": "stdout",
     "output_type": "stream",
     "text": [
      "14\n"
     ]
    }
   ],
   "source": [
    "# len function\n",
    "text = \"Hello, Python!\"\n",
    "length = len(text)\n",
    "print(length)"
   ]
  },
  {
   "cell_type": "code",
   "execution_count": 7,
   "id": "c86be246",
   "metadata": {},
   "outputs": [
    {
     "name": "stdout",
     "output_type": "stream",
     "text": [
      "K\n",
      "n\n",
      "t\n"
     ]
    }
   ],
   "source": [
    "# Access string elements\n",
    "name = \"Konstantin\"\n",
    "print(name[0])\n",
    "print(name[2])\n",
    "\n",
    "# use negative indices\n",
    "print(name[-3])\n"
   ]
  },
  {
   "cell_type": "code",
   "execution_count": null,
   "id": "9bb53e2f",
   "metadata": {},
   "outputs": [
    {
     "name": "stdout",
     "output_type": "stream",
     "text": [
      "Pyt\n",
      "Python\n",
      "thon\n",
      "thon\n",
      "Python\n",
      "6\n"
     ]
    }
   ],
   "source": [
    "# string slicing\n",
    "# specify the start and end of the slice\n",
    "\n",
    "language = \"Python\"\n",
    "#language = language.replace(\"n\",\"h\", 1)\n",
    "print(language[0:3])\n",
    "print(language)\n",
    "\n",
    "print(language[2:len(language)])\n",
    "print(language[2:])\n",
    "print(language[:5])\n",
    "print(len(language))"
   ]
  },
  {
   "cell_type": "code",
   "execution_count": 25,
   "id": "5257e7c5",
   "metadata": {},
   "outputs": [
    {
     "name": "stdout",
     "output_type": "stream",
     "text": [
      "hon\n",
      "nhy\n",
      "nohtyP\n"
     ]
    }
   ],
   "source": [
    "# you can use negative indices\n",
    "language = \"Python\"\n",
    "\n",
    "print(language[-3:])\n",
    "\n",
    "# specify the step\n",
    "print(language[::-2])\n",
    "# reverse the string\n",
    "print(language[::-1])"
   ]
  },
  {
   "cell_type": "code",
   "execution_count": 35,
   "id": "4d8c849e",
   "metadata": {},
   "outputs": [
    {
     "name": "stdout",
     "output_type": "stream",
     "text": [
      "456\n",
      "12356\n"
     ]
    }
   ],
   "source": [
    "text = \"123456\"\n",
    "#print the second half of the text\n",
    "half: int = len(text)//2\n",
    "print(text[half:])\n",
    "\n",
    "# print first 3 characters + last 2 characters\n",
    "first_3 = text[0:3]\n",
    "last_2 = text[-2:]\n",
    "print(first_3 + last_2)"
   ]
  },
  {
   "cell_type": "code",
   "execution_count": 7,
   "id": "0fcbf837",
   "metadata": {},
   "outputs": [
    {
     "name": "stdout",
     "output_type": "stream",
     "text": [
      "baby\n"
     ]
    }
   ],
   "source": [
    "age = int(input())\n",
    "if (age < 2):\n",
    "    print(\"baby\")\n",
    "elif (age < 4):\n",
    "    print(\"toddler\")\n",
    "elif (age < 13):\n",
    "    print(\"kid\")\n",
    "elif (age < 20):\n",
    "    print(\"teenager\")\n",
    "else:\n",
    "    print(\"adult\")"
   ]
  },
  {
   "cell_type": "code",
   "execution_count": 14,
   "id": "6c6df7e0",
   "metadata": {},
   "outputs": [
    {
     "name": "stdout",
     "output_type": "stream",
     "text": [
      "Toyota\n",
      "BMW\n",
      "AUDI\n",
      "Volkswagon\n",
      "Nissan\n"
     ]
    }
   ],
   "source": [
    "# split\n",
    "makes = \"toyota, bmw, audi, volkswagon, nissan\"\n",
    "car_makes = makes.split(\",\") # car_makes is a list of strings\n",
    "# iterate through the list\n",
    "\n",
    "for make in car_makes:\n",
    "    make = make.lstrip()\n",
    "    if make == \"bmw\" or make == \"audi\":\n",
    "        print(make.upper())\n",
    "    else:\n",
    "        print(make.title())"
   ]
  },
  {
   "cell_type": "code",
   "execution_count": 15,
   "id": "d00087b9",
   "metadata": {},
   "outputs": [
    {
     "name": "stdout",
     "output_type": "stream",
     "text": [
      "Toyota\n",
      "BMW\n",
      "AUDI\n",
      "Volkswagon\n",
      "Nissan\n"
     ]
    }
   ],
   "source": [
    "# split\n",
    "makes = \"toyota, bmw, audi, volkswagon, nissan\"\n",
    "car_makes = makes.split(\",\") # car_makes is a list of strings\n",
    "# iterate through the list\n",
    "\n",
    "for make in car_makes:\n",
    "    make = make.lstrip()\n",
    "    if make in {\"bmw\", \"audi\"}:\n",
    "        print(make.upper())\n",
    "    else:\n",
    "        print(make.title())"
   ]
  },
  {
   "cell_type": "code",
   "execution_count": 24,
   "id": "2eb15363",
   "metadata": {},
   "outputs": [
    {
     "name": "stdout",
     "output_type": "stream",
     "text": [
      "1\n",
      "4\n",
      "9\n",
      "16\n",
      "25\n",
      "36\n",
      "49\n",
      "64\n",
      "81\n",
      "100\n",
      "121\n",
      "144\n",
      "169\n",
      "196\n",
      "225\n",
      "256\n",
      "289\n",
      "324\n",
      "361\n"
     ]
    }
   ],
   "source": [
    "# for loop\n",
    "# range() BIF\n",
    "#for i in range(1,10, 2):\n",
    "#   print(i)\n",
    "\n",
    "# print all the squares from 1 to 20\n",
    "for i in range(1,20):\n",
    "    print(i**2) "
   ]
  }
 ],
 "metadata": {
  "kernelspec": {
   "display_name": "Python 3",
   "language": "python",
   "name": "python3"
  },
  "language_info": {
   "codemirror_mode": {
    "name": "ipython",
    "version": 3
   },
   "file_extension": ".py",
   "mimetype": "text/x-python",
   "name": "python",
   "nbconvert_exporter": "python",
   "pygments_lexer": "ipython3",
   "version": "3.12.1"
  }
 },
 "nbformat": 4,
 "nbformat_minor": 5
}
